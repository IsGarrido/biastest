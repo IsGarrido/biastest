{
 "cells": [
  {
   "cell_type": "code",
   "execution_count": 7,
   "metadata": {},
   "outputs": [],
   "source": [
    "from relhelperspy.io.project_helper import ProjectHelper as _project\n",
    "from relhelperspy.primitives.annotations import log_time\n",
    "from relhelperspy.primitives.string_helper import StringHelper as _string\n",
    "from relhelperspy.io.write_helper import WriteHelper as _write\n",
    "from relhelperspy.io.read_helper import ReadHelper as _read"
   ]
  },
  {
   "cell_type": "code",
   "execution_count": 8,
   "metadata": {},
   "outputs": [
    {
     "name": "stdout",
     "output_type": "stream",
     "text": [
      "5 nationatiies\n",
      "13 templates\n",
      "5 sentences <class 'list'>\n",
      "2171500808.py | run took 0:00:00.001050\n"
     ]
    }
   ],
   "source": [
    "\n",
    "templates_file = \"templates.txt\"\n",
    "nationalities_file = \"nationalities.txt\"\n",
    "result_path = \"nationalities\"\n",
    "\n",
    "nationalities_file = \"nationalities_small.txt\"\n",
    "templates_file = \"templates_plural.txt\"\n",
    "result_path = \"nationalities\"\n",
    "\n",
    "nationalities_file = \"nationalities_forced.txt\"\n",
    "templates_file = \"templates_plural.txt\"\n",
    "result_path = \"nationalities_forced\"\n",
    "\n",
    "class GenerateSentences:\n",
    "        def __init__(self) -> None:\n",
    "        \n",
    "            self.data_path = _string.as_file_name(\"GenerateSentences\")\n",
    "            self.output_folder = _project.result_path(self.data_path, result_path)\n",
    "\n",
    "            _write.create_dir(self.output_folder)\n",
    "\n",
    "        @log_time\n",
    "        def run(self):\n",
    "            nationalities_path = _project.data_path(self.data_path, nationalities_file)\n",
    "            templates_path = _project.data_path(self.data_path, templates_file)\n",
    "\n",
    "            nationalities = _read.read_as_list(nationalities_path)\n",
    "            templates = _read.read_as_list(templates_path)\n",
    "\n",
    "            print(str(len(nationalities)) + \" nationatiies\")\n",
    "            print(str(len(templates)) + \" templates\")\n",
    "\n",
    "            # content\n",
    "            lines = []\n",
    "            for template in templates:\n",
    "                sentences = []\n",
    "                for nat in nationalities:\n",
    "                    sentences.append(template.format(nat=nat)) \n",
    "                line = str.join(\"\\t\", sentences)\n",
    "                lines.append(line)\n",
    "            \n",
    "            # header\n",
    "            header = str.join(\"\\t\", nationalities)\n",
    "\n",
    "            print(str(len(sentences)) + \" sentences \" + str(type(sentences)))\n",
    "            _write.list_as_lines(lines, self.output_folder + \"/sentences.tsv\", line_separator = \"\\n\", header = header )\n",
    "\n",
    "\n",
    "GenerateSentences().run()"
   ]
  }
 ],
 "metadata": {
  "kernelspec": {
   "display_name": "Python 3.8.13 ('dllas-evaluator')",
   "language": "python",
   "name": "python3"
  },
  "language_info": {
   "codemirror_mode": {
    "name": "ipython",
    "version": 3
   },
   "file_extension": ".py",
   "mimetype": "text/x-python",
   "name": "python",
   "nbconvert_exporter": "python",
   "pygments_lexer": "ipython3",
   "version": "3.8.13"
  },
  "orig_nbformat": 4,
  "vscode": {
   "interpreter": {
    "hash": "cbbd68914e4355ecd45f0b9885b489bbb419b9f4b27815993e8a781e97931920"
   }
  }
 },
 "nbformat": 4,
 "nbformat_minor": 2
}
